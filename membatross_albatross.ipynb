{
 "cells": [
  {
   "cell_type": "markdown",
   "id": "2d23cb3d",
   "metadata": {},
   "source": [
    "# Data prep\n",
    "\n",
    "* Representations of 1854 concepts with 49 features\n",
    "* Generate correlation matrix"
   ]
  },
  {
   "cell_type": "code",
   "execution_count": 1,
   "id": "32faef62",
   "metadata": {},
   "outputs": [],
   "source": [
    "import os\n",
    "import numpy as np\n",
    "import pandas as pd\n",
    "from scipy.io import loadmat\n",
    "from scipy.linalg import orthogonal_procrustes\n",
    "import statsmodels.api as sm\n",
    "import scipy.stats as stats\n",
    "from hyperbolicMDS.mds import HyperMDS, cart_to_polar\n",
    "from matplotlib import colors\n",
    "from sklearn.cluster import KMeans\n",
    "from mpl_toolkits.mplot3d import axes3d\n",
    "from matplotlib.colors import ListedColormap\n",
    "import re, seaborn as sns\n",
    "\n",
    "data_dir = '../data'\n",
    "output_dir = '../outputs'"
   ]
  },
  {
   "cell_type": "code",
   "execution_count": 2,
   "id": "e5cb7f56",
   "metadata": {},
   "outputs": [
    {
     "data": {
      "text/plain": [
       "(1854, 49)"
      ]
     },
     "execution_count": 2,
     "metadata": {},
     "output_type": "execute_result"
    }
   ],
   "source": [
    "original_embeddings = np.loadtxt(os.path.join(data_dir, 'spose_embedding_49d_sorted.txt'))\n",
    "original_embeddings.shape"
   ]
  },
  {
   "cell_type": "code",
   "execution_count": 35,
   "id": "e649c76e",
   "metadata": {},
   "outputs": [
    {
     "data": {
      "text/plain": [
       "8.642178505132961e-05"
      ]
     },
     "execution_count": 35,
     "metadata": {},
     "output_type": "execute_result"
    }
   ],
   "source": [
    "temp = abs(np.corrcoef(original_embeddings, rowvar=False))\n",
    "temp.min()"
   ]
  },
  {
   "cell_type": "code",
   "execution_count": 42,
   "id": "b0b2236f",
   "metadata": {},
   "outputs": [
    {
     "data": {
      "text/plain": [
       "array([[0.00000000e+00, 5.57049722e-01, 5.20574492e-01, ...,\n",
       "        8.81469323e-01, 9.95511654e-01, 9.71687058e-01],\n",
       "       [5.57049722e-01, 1.11022302e-16, 9.29811866e-01, ...,\n",
       "        9.35101383e-01, 9.85698043e-01, 9.55508052e-01],\n",
       "       [5.20574492e-01, 9.29811866e-01, 0.00000000e+00, ...,\n",
       "        9.32713439e-01, 9.25074312e-01, 9.16707475e-01],\n",
       "       ...,\n",
       "       [8.81469323e-01, 9.35101383e-01, 9.32713439e-01, ...,\n",
       "        1.11022302e-16, 9.64394046e-01, 9.95859566e-01],\n",
       "       [9.95511654e-01, 9.85698043e-01, 9.25074312e-01, ...,\n",
       "        9.64394046e-01, 0.00000000e+00, 8.93988596e-01],\n",
       "       [9.71687058e-01, 9.55508052e-01, 9.16707475e-01, ...,\n",
       "        9.95859566e-01, 8.93988596e-01, 0.00000000e+00]])"
      ]
     },
     "execution_count": 42,
     "metadata": {},
     "output_type": "execute_result"
    }
   ],
   "source": [
    "(1-abs(temp.T + temp)/2)"
   ]
  },
  {
   "cell_type": "code",
   "execution_count": 62,
   "id": "db616da7",
   "metadata": {},
   "outputs": [
    {
     "data": {
      "text/plain": [
       "array([[0.00000000e+00, 5.57049722e-01, 5.20574492e-01, ...,\n",
       "        8.81469323e-01, 9.95511654e-01, 9.71687058e-01],\n",
       "       [5.57049722e-01, 1.11022302e-16, 9.29811866e-01, ...,\n",
       "        9.35101383e-01, 9.85698043e-01, 9.55508052e-01],\n",
       "       [5.20574492e-01, 9.29811866e-01, 0.00000000e+00, ...,\n",
       "        9.32713439e-01, 9.25074312e-01, 9.16707475e-01],\n",
       "       ...,\n",
       "       [8.81469323e-01, 9.35101383e-01, 9.32713439e-01, ...,\n",
       "        1.11022302e-16, 9.64394046e-01, 9.95859566e-01],\n",
       "       [9.95511654e-01, 9.85698043e-01, 9.25074312e-01, ...,\n",
       "        9.64394046e-01, 0.00000000e+00, 8.93988596e-01],\n",
       "       [9.71687058e-01, 9.55508052e-01, 9.16707475e-01, ...,\n",
       "        9.95859566e-01, 8.93988596e-01, 0.00000000e+00]])"
      ]
     },
     "execution_count": 62,
     "metadata": {},
     "output_type": "execute_result"
    }
   ],
   "source": [
    "coef_embed = 1 - np.abs(np.corrcoef(original_embeddings, rowvar=False))\n",
    "coef_embed"
   ]
  },
  {
   "cell_type": "code",
   "execution_count": 59,
   "id": "abcfab00",
   "metadata": {},
   "outputs": [
    {
     "data": {
      "text/plain": [
       "array([[0.        , 0.55704972, 0.52057449, ..., 0.88146932, 0.99551165,\n",
       "        0.97168706],\n",
       "       [0.55704972, 0.        , 0.92981187, ..., 0.93510138, 0.98569804,\n",
       "        0.95550805],\n",
       "       [0.52057449, 0.92981187, 0.        , ..., 0.93271344, 0.92507431,\n",
       "        0.91670747],\n",
       "       ...,\n",
       "       [0.88146932, 0.93510138, 0.93271344, ..., 0.        , 0.96439405,\n",
       "        0.99585957],\n",
       "       [0.99551165, 0.98569804, 0.92507431, ..., 0.96439405, 0.        ,\n",
       "        0.8939886 ],\n",
       "       [0.97168706, 0.95550805, 0.91670747, ..., 0.99585957, 0.8939886 ,\n",
       "        0.        ]])"
      ]
     },
     "execution_count": 59,
     "metadata": {},
     "output_type": "execute_result"
    }
   ],
   "source": [
    "eps = 1e-15\n",
    "coef_embed[np.abs(coef_embed) < eps] = 0.00000000e+00\n",
    "coef_embed"
   ]
  },
  {
   "cell_type": "code",
   "execution_count": 63,
   "id": "2b938955",
   "metadata": {},
   "outputs": [
    {
     "data": {
      "text/plain": [
       "array([[0.00000000e+00, 5.57049722e-01, 5.20574492e-01, ...,\n",
       "        8.81469323e-01, 9.95511654e-01, 9.71687058e-01],\n",
       "       [5.57049722e-01, 0.00000000e+00, 9.29811866e-01, ...,\n",
       "        9.35101383e-01, 9.85698043e-01, 9.55508052e-01],\n",
       "       [5.20574492e-01, 9.29811866e-01, 0.00000000e+00, ...,\n",
       "        9.32713439e-01, 9.25074312e-01, 9.16707475e-01],\n",
       "       ...,\n",
       "       [8.81469323e-01, 9.35101383e-01, 9.32713439e-01, ...,\n",
       "        0.00000000e+00, 9.64394046e-01, 9.95859566e-01],\n",
       "       [9.95511654e-01, 9.85698043e-01, 9.25074312e-01, ...,\n",
       "        9.64394046e-01, 2.22044605e-16, 8.93988596e-01],\n",
       "       [9.71687058e-01, 9.55508052e-01, 9.16707475e-01, ...,\n",
       "        9.95859566e-01, 8.93988596e-01, 0.00000000e+00]])"
      ]
     },
     "execution_count": 63,
     "metadata": {},
     "output_type": "execute_result"
    }
   ],
   "source": [
    "real_coef = pd.read_csv(os.path.join(data_dir, 'coef_embed.csv'), header=None).to_numpy()\n",
    "real_coef"
   ]
  },
  {
   "cell_type": "code",
   "execution_count": 64,
   "id": "b116406e",
   "metadata": {},
   "outputs": [
    {
     "data": {
      "text/plain": [
       "array([[ True,  True,  True, ...,  True, False,  True],\n",
       "       [ True, False, False, ..., False,  True,  True],\n",
       "       [ True, False,  True, ...,  True, False, False],\n",
       "       ...,\n",
       "       [ True, False,  True, ..., False, False, False],\n",
       "       [False,  True, False, ..., False, False, False],\n",
       "       [ True,  True, False, ..., False, False,  True]])"
      ]
     },
     "execution_count": 64,
     "metadata": {},
     "output_type": "execute_result"
    }
   ],
   "source": [
    "(coef_embed+coef_embed.T)/2 == real_coef"
   ]
  },
  {
   "cell_type": "code",
   "execution_count": null,
   "id": "aec76ff2",
   "metadata": {},
   "outputs": [],
   "source": []
  },
  {
   "cell_type": "markdown",
   "id": "76595332",
   "metadata": {},
   "source": [
    "## Albatross (midway)\n",
    "* Setup Albatross on midway: git install\n",
    "* Send sbatch job\n",
    "* Collect output: \n",
    "  1. euclidean vs. hyperbolic\n",
    "  2. betticurve plot"
   ]
  },
  {
   "cell_type": "code",
   "execution_count": 1,
   "id": "2f2211c7",
   "metadata": {},
   "outputs": [],
   "source": [
    "### coef_embed.csv uploaded to midway\n",
    "### submit albatross job: albatross all \"/project/wilma/Membatross/mapping/work\" \"/project/wilma/Membatross/mapping/outputs/\" --dataset_name=\"mbt_out\" --log_dir=\"/project/wilma/Membatross/mapping\" --input_data=\"/project/wilma/Membatross/mapping/data/coef_embed.csv\" --distance_mode=distance --conda_env=\"/project/wilma/conda_envs/membatross\" --n=49 --iters=150 --hyperbolic_dimensions=4 --min_eps=0.0 --partition=“caslake\\n” --account=\"pi-wilma\" --grid_threads=40 --grid_cpu=40 --grid_mem=\"80G\" --max_eu_dim=60 --max_eps=0.3\n",
    "### after albatross, run get_sub_stats.py to generate inference_stats.csv and betticurve plot\n",
    "### run hyperbolic.sbatch to generate the loading of features/concepts in hyperbolic space \n"
   ]
  },
  {
   "cell_type": "code",
   "execution_count": null,
   "id": "8c2b50c2",
   "metadata": {},
   "outputs": [],
   "source": []
  },
  {
   "cell_type": "markdown",
   "id": "c4cc4e31",
   "metadata": {},
   "source": [
    "## Visualize betti curves"
   ]
  },
  {
   "cell_type": "code",
   "execution_count": 9,
   "id": "96095b3b",
   "metadata": {},
   "outputs": [
    {
     "data": {
      "image/png": "[encoded data removed]",
      "text/plain": [
       "<Figure size 432x288 with 1 Axes>"
      ]
     },
     "metadata": {
      "needs_background": "light"
     },
     "output_type": "display_data"
    }
   ],
   "source": [
    "import numpy\n",
    "import matplotlib.pyplot as plt\n",
    "COLORS = ['#FFA630', '#4DA1A9', '#611C35']\n",
    "\n",
    "emp_49 = numpy.load('/Users/fiona/Desktop/membatross/albatross_49/outputs/empirical_betti_curves_mbt_out_49.npz',allow_pickle=True)\n",
    "eu_49 = numpy.load('/Users/fiona/Desktop/membatross/albatross_49/outputs/euclidean_model_dims_16_epsilon_0.08_mbt_out_49.npz',allow_pickle=True)\n",
    "# emp_88 = numpy.load('/Users/fiona/Desktop/membatross/albatross_49/outputs/empirical_betti_curves_OPENFIELDm_88_n_75_i_150.npz',allow_pickle=True)\n",
    "# eu_88 = numpy.load('/Users/fiona/Desktop/membatross/albatross_49/outputs/euclidean_model_dims_8_epsilon_0.14_OPENFIELDm_88_n_75_i_150.npz',allow_pickle=True)\n",
    "hyp_49 = numpy.load('/Users/fiona/Desktop/membatross/albatross_49/outputs/hyperbolic_model_dims_3_rmax_21_rmin_0.40_epsilon_0.03_mbt_out_49.npz',allow_pickle=True)\n",
    "\n",
    "emp_49 = [numpy.dstack([emp_49.get(x) for x in filter(lambda x: x.__contains__('%d_' % i),emp_49.keys())]).mean(2).T for i in range(1,4)]\n",
    "eu_49 = [numpy.dstack([eu_49.get(x) for x in filter(lambda x: x.__contains__('%d_' % i),eu_49.keys())]).mean(2).T for i in range(1,4)]\n",
    "# emp_88 = [numpy.dstack([emp_88.get(x) for x in filter(lambda x: x.__contains__('%d_' % i),emp_88.keys())]).mean(2).T for i in range(1,4)]\n",
    "# eu_88 = [numpy.dstack([eu_88.get(x) for x in filter(lambda x: x.__contains__('%d_' % i),eu_88.keys())]).mean(2).T for i in range(1,4)]\n",
    "hyp_49 = [numpy.dstack([hyp_49.get(x) for x in filter(lambda x: x.__contains__('%d_' % i),hyp_49.keys())]).mean(2).T for i in range(1,4)]\n",
    "\n",
    "\n",
    "plt.clf()\n",
    "for i in range(1, 4):\n",
    "    plt.plot(eu_49[i-1][0,:], eu_49[i-1][1,:], alpha=0.8, color=COLORS[i - 1],\n",
    "                 linestyle=':')\n",
    "    plt.plot(hyp_49[i-1][0, :], hyp_49[i-1][1, :], alpha=0.8, color=COLORS[i - 1],\n",
    "             linestyle='--')\n",
    "    plt.plot(emp_49[i - 1][0, :], emp_49[i - 1][1, :], alpha=0.8, color=COLORS[i - 1],\n",
    "             linestyle='-')\n",
    "#     plt.plot(emp_88[i - 1][0, :], emp_88[i - 1][1, :], alpha=0.8, color=COLORS[i - 1],\n",
    "#              linestyle='--')\n",
    "#     plt.text(0.35,25,'n=%d' % 75,size=15)\n",
    "#     plt.text(0.62, 1, 'n=%d' % 30, size=15)\n",
    "#     plt.arrow(0.18,10,-.08,20, length_includes_head=True, head_length=1,head_width=.025,color='black')\n",
    "#     plt.arrow(0.4, 3.5, -.14, 23, length_includes_head=True, head_length=1, head_width=.025, color='black')\n",
    "#     plt.arrow(0.52, 1, -.13, 14, length_includes_head=True, head_length=1, head_width=.025, color='black')\n",
    "    plt.ylabel('Betti values (# cycles)')\n",
    "    plt.xlabel('Edge density')\n",
    "plt.plot([],[],linestyle='-',color='black',label='empirical curve')\n",
    "plt.plot([], [], linestyle=':', color='black', label='euclidean model')\n",
    "plt.plot([], [], linestyle='--', color='black', label='hyperbolic model')\n",
    "plt.legend(loc=\"upper right\")\n",
    "plt.tight_layout()\n",
    "plt.savefig('/Users/fiona/Desktop/membatross/albatross_49/outputs/sub_sample_hippo.png', dpi=300)"
   ]
  },
  {
   "cell_type": "code",
   "execution_count": null,
   "id": "337a92d9",
   "metadata": {},
   "outputs": [],
   "source": []
  }
 ],
 "metadata": {
  "kernelspec": {
   "display_name": "Python 3 (ipykernel)",
   "language": "python",
   "name": "python3"
  },
  "language_info": {
   "codemirror_mode": {
    "name": "ipython",
    "version": 3
   },
   "file_extension": ".py",
   "mimetype": "text/x-python",
   "name": "python",
   "nbconvert_exporter": "python",
   "pygments_lexer": "ipython3",
   "version": "3.9.7"
  }
 },
 "nbformat": 4,
 "nbformat_minor": 5
}
