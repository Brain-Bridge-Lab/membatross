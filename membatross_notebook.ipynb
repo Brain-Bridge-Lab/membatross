{
 "cells": [
  {
   "cell_type": "markdown",
   "id": "d26b4c48",
   "metadata": {},
   "source": [
    "# Membatross\n",
    "---\n",
    "### Data prep\n",
    " \n",
    "\n",
    "### 49-dim Feature Space\n",
    "\n",
    "1. Get 49-dim feature embeddings from albatross results (.npy)\n",
    "2. Get loadings of 1854 concepts in 49-dim hyperbolic feature space\n",
    "3. Euclidean vs. mobius vector addition: test out different values of S\n",
    "4. Get average 49-dim feature space embeddings and 1854 concept loadings through procrustes\n",
    "5. Analysis: predicting memorability (euclidean vs. mobius)\n",
    "        a. Cartesian coordinates (x, y, z: which axis explains variances in memorability the best)\n",
    "        b. Polar coordinates (r, theta, rho: which angle explains the best)\n",
    "        c. Radius (concepts closer to the core vs. on surface are more memorable?)\n",
    "        d. K-Means clusters:\n",
    "            (1) Cartesian coordinates\n",
    "            (2) Polar coordinates\n",
    "6. Analysis: with typicality (euclidean vs. mobius)\n",
    "        a. Calculate typicality: average similarity of each concept pair within category \n",
    "        b. Predicting typicality\n",
    "            (1) Cartesian coordinates\n",
    "            (2) Polar coordinates \n",
    "            (3) Radius\n",
    "        c. Predicting memorability\n",
    "            (1) Typicality (more prototypical --> more memorable?)\n",
    "            (2) Typicality + coordinates/radius to predict memorability\n",
    "        \n",
    "\n",
    "### Concept Space"
   ]
  },
  {
   "cell_type": "code",
   "execution_count": null,
   "id": "92f79b6d",
   "metadata": {},
   "outputs": [],
   "source": []
  },
  {
   "cell_type": "code",
   "execution_count": null,
   "id": "b7b09dc3",
   "metadata": {},
   "outputs": [],
   "source": []
  }
 ],
 "metadata": {
  "kernelspec": {
   "display_name": "Python 3 (ipykernel)",
   "language": "python",
   "name": "python3"
  },
  "language_info": {
   "codemirror_mode": {
    "name": "ipython",
    "version": 3
   },
   "file_extension": ".py",
   "mimetype": "text/x-python",
   "name": "python",
   "nbconvert_exporter": "python",
   "pygments_lexer": "ipython3",
   "version": "3.9.7"
  }
 },
 "nbformat": 4,
 "nbformat_minor": 5
}
